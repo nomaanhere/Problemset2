{
  "nbformat": 4,
  "nbformat_minor": 0,
  "metadata": {
    "colab": {
      "provenance": []
    },
    "kernelspec": {
      "name": "python3",
      "display_name": "Python 3"
    },
    "language_info": {
      "name": "python"
    }
  },
  "cells": [
    {
      "cell_type": "markdown",
      "source": [
        "**Question 1**"
      ],
      "metadata": {
        "id": "m-ISNkg8QdMv"
      }
    },
    {
      "cell_type": "code",
      "execution_count": 6,
      "metadata": {
        "colab": {
          "base_uri": "https://localhost:8080/"
        },
        "id": "B6bZdIj8HXmR",
        "outputId": "fa4483d7-4f5d-45e9-d069-48afd10f1e29"
      },
      "outputs": [
        {
          "output_type": "stream",
          "name": "stdout",
          "text": [
            "6\n"
          ]
        }
      ],
      "source": [
        "a = 0\n",
        "\n",
        "def b():\n",
        "    global a\n",
        "    a = c(a)\n",
        "\n",
        "def c(a):\n",
        "    return a + 2\n",
        "\n",
        "b()\n",
        "b()\n",
        "b()\n",
        "print(a)"
      ]
    },
    {
      "cell_type": "markdown",
      "source": [
        "Explanation for the entire code:\n",
        "\n",
        "1. Initialization:\n",
        "\n",
        "a is initialized to 0.\n",
        "\n",
        "2. First call to b():\n",
        "\n",
        "The function b() is called.\n",
        "Inside b(), the global variable a is referenced.\n",
        "The function c(a) is called with the current value of a (which is 0).\n",
        "Inside c(a), the value a + 2 is computed, resulting in 2.\n",
        "The result 2 is returned to b(), and a is updated to 2.\n",
        "\n",
        "3. Second call to b():\n",
        "\n",
        "The function b() is called again.\n",
        "Inside b(), the global variable a is now 2.\n",
        "The function c(a) is called with the current value of a (which is 2).\n",
        "Inside c(a), the value a + 2 is computed, resulting in 4.\n",
        "The result 4 is returned to b(), and a is updated to 4.\n",
        "\n",
        "4. Third call to b():\n",
        "\n",
        "The function b() is called once more.\n",
        "Inside b(), the global variable a is now 4.\n",
        "The function c(a) is called with the current value of a (which is 4).\n",
        "Inside c(a), the value a + 2 is computed, resulting in 6.\n",
        "The result 6 is returned to b(), and a is updated to 6.\n",
        "\n",
        "Final value of a:\n",
        "\n",
        "The value of a is now 6."
      ],
      "metadata": {
        "id": "S9C4BrPnKV_y"
      }
    },
    {
      "cell_type": "markdown",
      "source": [
        "**Question 2**\n",
        "\n",
        "There is no file midterm.py Let's use the filename Filelength.txt instead of midterm.py in the examples."
      ],
      "metadata": {
        "id": "hrlPlTlPMpgc"
      }
    },
    {
      "cell_type": "code",
      "source": [
        "def fileLength(filename):\n",
        "    try:\n",
        "        with open(filename, 'r') as infile:\n",
        "            contents = infile.read()\n",
        "            return len(contents)\n",
        "    except FileNotFoundError:\n",
        "        print(f\"File {filename} not found.\")\n",
        "    except IOError:\n",
        "        print(f\"Could not read file {filename}.\")\n",
        "# Examples of usage:\n",
        "print(fileLength('/content/sample_data/Filelength.txt'))  # This should print the length of the file if found\n",
        "print(fileLength('idterm.py'))   # This should print \"File idterm.py not found.\""
      ],
      "metadata": {
        "colab": {
          "base_uri": "https://localhost:8080/"
        },
        "id": "skfs3UHwHwpw",
        "outputId": "f47ef56c-cb23-45cd-b28d-f3ecff80793d"
      },
      "execution_count": 7,
      "outputs": [
        {
          "output_type": "stream",
          "name": "stdout",
          "text": [
            "123\n",
            "File idterm.py not found.\n",
            "None\n"
          ]
        }
      ]
    },
    {
      "cell_type": "markdown",
      "source": [
        "**Question 3**"
      ],
      "metadata": {
        "id": "wYPacnBVNUyw"
      }
    },
    {
      "cell_type": "code",
      "source": [
        "class Marsupial:\n",
        "    def __init__(self):\n",
        "        self.pouch = []\n",
        "\n",
        "    def put_in_pouch(self, item):\n",
        "        self.pouch.append(item)\n",
        "\n",
        "    def pouch_contents(self):\n",
        "        return self.pouch\n",
        "\n",
        "\n",
        "class Kangaroo(Marsupial):\n",
        "    def __init__(self, x, y):\n",
        "        super().__init__()\n",
        "        self.x = x\n",
        "        self.y = y\n",
        "\n",
        "    def jump(self, dx, dy):\n",
        "        self.x += dx\n",
        "        self.y += dy\n",
        "\n",
        "    def __str__(self):\n",
        "        return \"I am a Kangaroo located at coordinates ({}, {})\".format(self.x, self.y)\n",
        "\n",
        "\n",
        "m = Marsupial()\n",
        "m.put_in_pouch('doll')\n",
        "m.put_in_pouch('firetruck')\n",
        "m.put_in_pouch('kitten')\n",
        "print(m.pouch_contents())  # Output: ['doll', 'firetruck', 'kitten']\n",
        "\n",
        "k = Kangaroo(0, 0)\n",
        "print(k)  # Output: I am a Kangaroo located at coordinates (0, 0)\n",
        "k.put_in_pouch('doll')\n",
        "k.put_in_pouch('firetruck')\n",
        "k.put_in_pouch('kitten')\n",
        "print(k.pouch_contents())  # Output: ['doll', 'firetruck', 'kitten']\n",
        "k.jump(1, 0)\n",
        "k.jump(1, 0)\n",
        "k.jump(1, 0)\n",
        "print(k)  # Output: I am a Kangaroo located at coordinates (3, 0)\n"
      ],
      "metadata": {
        "colab": {
          "base_uri": "https://localhost:8080/"
        },
        "id": "t8TfkaicH_EW",
        "outputId": "ed27ce26-e690-4199-df3f-5291bf80a6fd"
      },
      "execution_count": 9,
      "outputs": [
        {
          "output_type": "stream",
          "name": "stdout",
          "text": [
            "['doll', 'firetruck', 'kitten']\n",
            "I am a Kangaroo located at coordinates (0, 0)\n",
            "['doll', 'firetruck', 'kitten']\n",
            "I am a Kangaroo located at coordinates (3, 0)\n"
          ]
        }
      ]
    },
    {
      "cell_type": "markdown",
      "source": [
        "**Question 4**"
      ],
      "metadata": {
        "id": "gotOVNkUNe5g"
      }
    },
    {
      "cell_type": "code",
      "source": [
        "def collatz(number):\n",
        "    while number != 1:\n",
        "        print(number)\n",
        "        if number % 2 == 0:\n",
        "            number = number // 2\n",
        "        else:\n",
        "            number = 3 * number + 1\n",
        "    print(number)\n",
        "\n",
        "collatz(1)\n",
        "print(\"---------\")\n",
        "collatz(10)"
      ],
      "metadata": {
        "colab": {
          "base_uri": "https://localhost:8080/"
        },
        "id": "gI-nP-CkNiFK",
        "outputId": "cbc74269-4adc-42d8-ebf5-28db8b11a8d9"
      },
      "execution_count": 10,
      "outputs": [
        {
          "output_type": "stream",
          "name": "stdout",
          "text": [
            "1\n",
            "---------\n",
            "10\n",
            "5\n",
            "16\n",
            "8\n",
            "4\n",
            "2\n",
            "1\n"
          ]
        }
      ]
    },
    {
      "cell_type": "markdown",
      "source": [
        "**Question 5**"
      ],
      "metadata": {
        "id": "_v7SXwj5NlYo"
      }
    },
    {
      "cell_type": "code",
      "source": [
        "def binary(num):\n",
        "    if num == 0:\n",
        "        print(0, end='')\n",
        "    elif num == 1:\n",
        "        print(1, end='')\n",
        "    else:\n",
        "        binary(num // 2)\n",
        "        print(num % 2, end='')\n",
        "\n",
        "binary(0)\n",
        "print('\\n')\n",
        "binary(1)\n",
        "print('\\n')\n",
        "binary(3)\n",
        "print('\\n')\n",
        "binary(9)"
      ],
      "metadata": {
        "colab": {
          "base_uri": "https://localhost:8080/"
        },
        "id": "bjlRo46lNncR",
        "outputId": "6ac92e74-102f-4252-fbb5-0c2381b4c2f6"
      },
      "execution_count": 11,
      "outputs": [
        {
          "output_type": "stream",
          "name": "stdout",
          "text": [
            "0\n",
            "\n",
            "1\n",
            "\n",
            "11\n",
            "\n",
            "1001"
          ]
        }
      ]
    },
    {
      "cell_type": "markdown",
      "source": [
        "**Question 6**\n"
      ],
      "metadata": {
        "id": "UjlZWu80NrcH"
      }
    },
    {
      "cell_type": "code",
      "source": [
        "from html.parser import HTMLParser\n",
        "import re\n",
        "\n",
        "class HeadingParser(HTMLParser):\n",
        "    def __init__(self):\n",
        "        super().__init__()\n",
        "        self.indentation = 0\n",
        "        self.headings = []\n",
        "        self.exclude_title = False\n",
        "\n",
        "    def handle_starttag(self, tag, attrs):\n",
        "        if tag.lower().startswith('h'):\n",
        "            match = re.match(r'h(\\d+)', tag, re.IGNORECASE)\n",
        "            if match:\n",
        "                self.indentation = int(match.group(1)) - 1\n",
        "        elif tag.lower() == 'title':\n",
        "            self.exclude_title = True\n",
        "\n",
        "    def handle_endtag(self, tag):\n",
        "        if tag.lower() == 'title':\n",
        "            self.exclude_title = False\n",
        "\n",
        "    def handle_data(self, data):\n",
        "        if self.indentation >= 0 and not self.exclude_title:\n",
        "            heading = ' ' * self.indentation + data.strip()\n",
        "            if heading:\n",
        "                self.headings.append(heading)\n",
        "\n",
        "    def print_headings(self):\n",
        "        for i, heading in enumerate(self.headings):\n",
        "            print(heading, end='')\n",
        "            if i != len(self.headings) - 1:\n",
        "                print()\n",
        "\n",
        "infile = open('/content/sample_data/w3c.html')\n",
        "content = infile.read()\n",
        "infile.close()\n",
        "hp = HeadingParser()\n",
        "hp.feed(content)\n",
        "hp.print_headings()"
      ],
      "metadata": {
        "colab": {
          "base_uri": "https://localhost:8080/"
        },
        "id": "tC49OhlbNtUc",
        "outputId": "3d15bf4a-41fa-4f1e-e22b-688d799d21e8"
      },
      "execution_count": 13,
      "outputs": [
        {
          "output_type": "stream",
          "name": "stdout",
          "text": [
            "W3C Mission\n",
            " Principles\n",
            " \n",
            " "
          ]
        }
      ]
    },
    {
      "cell_type": "markdown",
      "source": [
        "**Question 7**\n"
      ],
      "metadata": {
        "id": "7Gg3YhGeQZFV"
      }
    },
    {
      "cell_type": "code",
      "source": [
        "from urllib import request\n",
        "from urllib.parse import urlparse, urljoin\n",
        "from html.parser import HTMLParser\n",
        "\n",
        "class WebDirHTMLParser(HTMLParser):\n",
        "    def __init__(self, base_url, depth, indent):\n",
        "        super().__init__()\n",
        "        self.base_url = base_url\n",
        "        self.depth = depth\n",
        "        self.indent = indent\n",
        "        self.current_depth = 0\n",
        "        self.visited_urls = set()\n",
        "\n",
        "    def handle_starttag(self, tag, attrs):\n",
        "        if self.current_depth <= self.depth and tag == 'a':\n",
        "            for attr in attrs:\n",
        "                if attr[0] == 'href':\n",
        "                    url = urljoin(self.base_url, attr[1])\n",
        "                    if url not in self.visited_urls:\n",
        "                        self.visited_urls.add(url)\n",
        "                        print(' ' * self.indent * self.current_depth + url)\n",
        "                        if self.current_depth < self.depth:\n",
        "                            self.current_depth += 1\n",
        "                            self.parse_url(url)\n",
        "\n",
        "    def parse_url(self, url):\n",
        "        try:\n",
        "            response = request.urlopen(url)\n",
        "            html_content = response.read().decode('utf-8')\n",
        "            parser = WebDirHTMLParser(url, self.depth, self.indent)\n",
        "            parser.feed(html_content)\n",
        "        except:\n",
        "            pass\n",
        "\n",
        "def webdir(url, depth, indent):\n",
        "    parsed_url = urlparse(url)\n",
        "    base_url = parsed_url.scheme + '://' + parsed_url.netloc\n",
        "    print(url)\n",
        "    parser = WebDirHTMLParser(base_url, depth, indent)\n",
        "    parser.parse_url(url)\n",
        "\n",
        "# Test the webdir function\n",
        "webdir('https://www.gmail.com', 1, 0)"
      ],
      "metadata": {
        "colab": {
          "base_uri": "https://localhost:8080/"
        },
        "id": "pYU_oAFQOZFF",
        "outputId": "7b9a6964-d274-463e-c684-29b59face5de"
      },
      "execution_count": 14,
      "outputs": [
        {
          "output_type": "stream",
          "name": "stdout",
          "text": [
            "https://www.gmail.com\n",
            "https://www.gmail.com/signin/usernamerecovery?continue=https://mail.google.com/mail/u/0/&dsh=S-117287222:1720138178371297&emr=1&flowEntry=ServiceLogin&flowName=WebLiteSignIn&followup=https://mail.google.com/mail/u/0/&ifkv=AdF4I76-SCJz7kulnSp-28PBAHtqpTkq3f5bM8c3r2is8rwVGxnvJkKkNOoAW4eK_fSi1ieeo986cw&osid=1&service=mail\n",
            "https://support.google.com/accounts?p=signin_privatebrowsing&hl=en-US\n",
            "https://www.gmail.com/lifecycle/flows/signup?continue=https://mail.google.com/mail/u/0/&dsh=S-117287222:1720138178371297&emr=1&flowEntry=SignUp&flowName=GlifWebSignIn&followup=https://mail.google.com/mail/u/0/&ifkv=AdF4I76-SCJz7kulnSp-28PBAHtqpTkq3f5bM8c3r2is8rwVGxnvJkKkNOoAW4eK_fSi1ieeo986cw&osid=1&service=mail\n",
            "https://support.google.com/accounts?hl=en-US&p=account_iph\n",
            "https://accounts.google.com/TOS?loc=US&hl=en-US&privacy=true\n",
            "https://accounts.google.com/TOS?loc=US&hl=en-US\n"
          ]
        }
      ]
    },
    {
      "cell_type": "code",
      "source": [
        "webdir('https://reed.cs.depaul.edu/lperkovic/csc242/test1.html', 2, 0)"
      ],
      "metadata": {
        "colab": {
          "base_uri": "https://localhost:8080/"
        },
        "id": "0boYZkHsOccd",
        "outputId": "d7f00369-e925-4a5f-c6b2-e5cdbf20bc3a"
      },
      "execution_count": 15,
      "outputs": [
        {
          "output_type": "stream",
          "name": "stdout",
          "text": [
            "https://reed.cs.depaul.edu/lperkovic/csc242/test1.html\n"
          ]
        }
      ]
    },
    {
      "cell_type": "markdown",
      "source": [
        "**Question 8**\n"
      ],
      "metadata": {
        "id": "kOTrbeJ1QPM3"
      }
    },
    {
      "cell_type": "code",
      "source": [
        "import sqlite3\n",
        "\n",
        "# Connect to the SQLite database (create a new database if it doesn't exist)\n",
        "conn = sqlite3.connect('weather_data.db')\n",
        "cursor = conn.cursor()\n",
        "# Check if the table exists\n",
        "cursor.execute(f\"SELECT name FROM sqlite_master WHERE type='table' AND name='weather'\")\n",
        "result = cursor.fetchone()\n",
        "if result:\n",
        "    # Table exists, so delete it\n",
        "    cursor.execute(f\"DROP TABLE weather\")\n",
        "# Create the table\n",
        "cursor.execute('''CREATE TABLE weather (\n",
        "                    City TEXT,\n",
        "                    Country TEXT,\n",
        "                    Season TEXT,\n",
        "                    Temperature REAL,\n",
        "                    Rainfall REAL\n",
        "                )''')\n",
        "\n",
        "# Insert the data into the table\n",
        "data = [('Mumbai', 'India', 'Winter', 24.8, 5.9),\n",
        "        ('Mumbai', 'India', 'Spring', 28.4, 16.2),\n",
        "        ('Mumbai', 'India', 'Summer', 27.9, 1549.4),\n",
        "        ('Mumbai', 'India', 'Fall', 27.6, 346.0),\n",
        "        ('London', 'United Kingdom', 'Winter', 4.2, 207.7),\n",
        "        ('London', 'United Kingdom', 'Spring', 8.3, 169.6),\n",
        "        ('London', 'United Kingdom', 'Summer', 15.7, 157.0),\n",
        "        ('London', 'United Kingdom', 'Fall', 10.4, 218.5),\n",
        "        ('Cairo', 'Egypt', 'Winter', 13.6, 16.5),\n",
        "        ('Cairo', 'Egypt', 'Spring', 20.7, 6.5),\n",
        "        ('Cairo', 'Egypt', 'Summer', 27.7, 0.1),\n",
        "        ('Cairo', 'Egypt', 'Fall', 22.2, 4.5)]\n",
        "\n",
        "cursor.executemany('INSERT INTO weather VALUES (?, ?, ?, ?, ?)', data)\n",
        "\n",
        "# Commit the changes and close the connection\n",
        "conn.commit()\n",
        "\n",
        "cursor.execute(\"SELECT Temperature FROM weather\")\n",
        "temperature_data = cursor.fetchall()\n",
        "print(\"All temperature data:\")\n",
        "for row in temperature_data:\n",
        "    print(row[0])"
      ],
      "metadata": {
        "colab": {
          "base_uri": "https://localhost:8080/"
        },
        "id": "B4aSoh5MOhHZ",
        "outputId": "bcd804eb-ef95-47d9-c4d6-cabd7628fdc9"
      },
      "execution_count": 16,
      "outputs": [
        {
          "output_type": "stream",
          "name": "stdout",
          "text": [
            "All temperature data:\n",
            "24.8\n",
            "28.4\n",
            "27.9\n",
            "27.6\n",
            "4.2\n",
            "8.3\n",
            "15.7\n",
            "10.4\n",
            "13.6\n",
            "20.7\n",
            "27.7\n",
            "22.2\n"
          ]
        }
      ]
    },
    {
      "cell_type": "markdown",
      "source": [
        " 2. All the cities, but without repetition"
      ],
      "metadata": {
        "id": "9pq9gTNGP3Jk"
      }
    },
    {
      "cell_type": "code",
      "source": [
        "cursor.execute(\"SELECT DISTINCT City FROM weather\")\n",
        "cities = cursor.fetchall()\n",
        "print(\"All cities:\")\n",
        "for row in cities:\n",
        "    print(row[0])"
      ],
      "metadata": {
        "colab": {
          "base_uri": "https://localhost:8080/"
        },
        "id": "TdCQvKGoOmfJ",
        "outputId": "9eebe738-bdf4-4187-b224-df3a4595f259"
      },
      "execution_count": 17,
      "outputs": [
        {
          "output_type": "stream",
          "name": "stdout",
          "text": [
            "All cities:\n",
            "Mumbai\n",
            "London\n",
            "Cairo\n"
          ]
        }
      ]
    },
    {
      "cell_type": "markdown",
      "source": [
        "3. All the records for India"
      ],
      "metadata": {
        "id": "BULIH2QlP0Gi"
      }
    },
    {
      "cell_type": "code",
      "source": [
        "cursor.execute(\"SELECT * FROM weather WHERE Country = 'India'\")\n",
        "india_records = cursor.fetchall()\n",
        "print(\"Records for India:\")\n",
        "for row in india_records:\n",
        "    print(row)"
      ],
      "metadata": {
        "colab": {
          "base_uri": "https://localhost:8080/"
        },
        "id": "AEcOOsJkOpUy",
        "outputId": "82b31e7a-e018-4727-e87f-96264d807a35"
      },
      "execution_count": 18,
      "outputs": [
        {
          "output_type": "stream",
          "name": "stdout",
          "text": [
            "Records for India:\n",
            "('Mumbai', 'India', 'Winter', 24.8, 5.9)\n",
            "('Mumbai', 'India', 'Spring', 28.4, 16.2)\n",
            "('Mumbai', 'India', 'Summer', 27.9, 1549.4)\n",
            "('Mumbai', 'India', 'Fall', 27.6, 346.0)\n"
          ]
        }
      ]
    },
    {
      "cell_type": "markdown",
      "source": [
        "4. All the Fall records"
      ],
      "metadata": {
        "id": "wewCTLYBPu-i"
      }
    },
    {
      "cell_type": "code",
      "source": [
        "cursor.execute(\"SELECT * FROM weather WHERE Season = 'Fall'\")\n",
        "fall_records = cursor.fetchall()\n",
        "print(\"Fall records:\")\n",
        "for row in fall_records:\n",
        "    print(row)"
      ],
      "metadata": {
        "colab": {
          "base_uri": "https://localhost:8080/"
        },
        "id": "9v-vc0KVOrt8",
        "outputId": "b3c41fd5-f59b-4ba4-f007-a32ebd0f4d59"
      },
      "execution_count": 19,
      "outputs": [
        {
          "output_type": "stream",
          "name": "stdout",
          "text": [
            "Fall records:\n",
            "('Mumbai', 'India', 'Fall', 27.6, 346.0)\n",
            "('London', 'United Kingdom', 'Fall', 10.4, 218.5)\n",
            "('Cairo', 'Egypt', 'Fall', 22.2, 4.5)\n"
          ]
        }
      ]
    },
    {
      "cell_type": "markdown",
      "source": [
        "5. The city, country, and season for which the average rainfall is between 200 and 400 millimeters."
      ],
      "metadata": {
        "id": "aaEC-py1PreL"
      }
    },
    {
      "cell_type": "code",
      "source": [
        "cursor.execute(\"SELECT City, Country, Season FROM weather WHERE Rainfall BETWEEN 200 AND 400\")\n",
        "rainfall_data = cursor.fetchall()\n",
        "print(\"City, Country, and Season with average rainfall between 200 and 400 millimeters:\")\n",
        "for row in rainfall_data:\n",
        "    print(row)"
      ],
      "metadata": {
        "colab": {
          "base_uri": "https://localhost:8080/"
        },
        "id": "ZWp_s-eIOuTL",
        "outputId": "368cefa5-e307-40ed-e1e3-f94b34a3a729"
      },
      "execution_count": 20,
      "outputs": [
        {
          "output_type": "stream",
          "name": "stdout",
          "text": [
            "City, Country, and Season with average rainfall between 200 and 400 millimeters:\n",
            "('Mumbai', 'India', 'Fall')\n",
            "('London', 'United Kingdom', 'Winter')\n",
            "('London', 'United Kingdom', 'Fall')\n"
          ]
        }
      ]
    },
    {
      "cell_type": "markdown",
      "source": [
        "6. The city and country for which the average Fall temperature is above 20 degrees, in increasing temperature order"
      ],
      "metadata": {
        "id": "7yo5eQJAPn6K"
      }
    },
    {
      "cell_type": "code",
      "source": [
        "cursor.execute(\"SELECT City, Country FROM weather WHERE Season = 'Fall' AND Temperature > 20 ORDER BY Temperature ASC\")\n",
        "fall_temperature_data = cursor.fetchall()\n",
        "print(\"City and Country with average Fall temperature above 20 degrees (in increasing temperature order):\")\n",
        "for row in fall_temperature_data:\n",
        "    print(row)"
      ],
      "metadata": {
        "colab": {
          "base_uri": "https://localhost:8080/"
        },
        "id": "3B-Ipr4wOwpL",
        "outputId": "cecc7655-eec1-4a0d-ca87-bdd6da7ce201"
      },
      "execution_count": 21,
      "outputs": [
        {
          "output_type": "stream",
          "name": "stdout",
          "text": [
            "City and Country with average Fall temperature above 20 degrees (in increasing temperature order):\n",
            "('Cairo', 'Egypt')\n",
            "('Mumbai', 'India')\n"
          ]
        }
      ]
    },
    {
      "cell_type": "markdown",
      "source": [
        "7. The total annual rainfall for Cairo:"
      ],
      "metadata": {
        "id": "9LN6XfZtPmKt"
      }
    },
    {
      "cell_type": "code",
      "source": [
        "cursor.execute(\"SELECT SUM(Rainfall) FROM weather WHERE City = 'Cairo'\")\n",
        "cairo_total_rainfall = cursor.fetchone()[0]\n",
        "print(\"Total annual rainfall for Cairo:\", cairo_total_rainfall)"
      ],
      "metadata": {
        "colab": {
          "base_uri": "https://localhost:8080/"
        },
        "id": "9CD0_jRbOzb8",
        "outputId": "8018c21a-e5b3-4cfa-ea6a-f88d6370e03f"
      },
      "execution_count": 22,
      "outputs": [
        {
          "output_type": "stream",
          "name": "stdout",
          "text": [
            "Total annual rainfall for Cairo: 27.6\n"
          ]
        }
      ]
    },
    {
      "cell_type": "markdown",
      "source": [
        "8. The total rainfall for each season:"
      ],
      "metadata": {
        "id": "SHhmihJAPgCh"
      }
    },
    {
      "cell_type": "code",
      "source": [
        "cursor.execute(\"SELECT Season, SUM(Rainfall) FROM weather GROUP BY Season\")\n",
        "seasonal_rainfall_data = cursor.fetchall()\n",
        "print(\"Total rainfall for each season:\")\n",
        "for row in seasonal_rainfall_data:\n",
        "    print(row)"
      ],
      "metadata": {
        "colab": {
          "base_uri": "https://localhost:8080/"
        },
        "id": "2naBiPv-O14E",
        "outputId": "e95b196e-3319-4442-c670-17aa1b46b415"
      },
      "execution_count": 23,
      "outputs": [
        {
          "output_type": "stream",
          "name": "stdout",
          "text": [
            "Total rainfall for each season:\n",
            "('Fall', 569.0)\n",
            "('Spring', 192.29999999999998)\n",
            "('Summer', 1706.5)\n",
            "('Winter', 230.1)\n"
          ]
        }
      ]
    },
    {
      "cell_type": "markdown",
      "source": [
        "**Question 9**"
      ],
      "metadata": {
        "id": "-269dikePPGa"
      }
    },
    {
      "cell_type": "code",
      "source": [
        "words = ['The', 'quick', 'brown', 'fox', 'jumps', 'over','the', 'lazy', 'dog']\n",
        "a = [word.upper() for word in words]\n",
        "print(a)"
      ],
      "metadata": {
        "colab": {
          "base_uri": "https://localhost:8080/"
        },
        "id": "NuYsUCajO7jf",
        "outputId": "a06f1cd9-a8d5-4b35-817e-2cc219c1dea3"
      },
      "execution_count": 24,
      "outputs": [
        {
          "output_type": "stream",
          "name": "stdout",
          "text": [
            "['THE', 'QUICK', 'BROWN', 'FOX', 'JUMPS', 'OVER', 'THE', 'LAZY', 'DOG']\n"
          ]
        }
      ]
    },
    {
      "cell_type": "code",
      "source": [
        "words = ['The', 'quick', 'brown', 'fox', 'jumps', 'over','the', 'lazy', 'dog']\n",
        "a = [word.lower() for word in words]\n",
        "print(a)"
      ],
      "metadata": {
        "colab": {
          "base_uri": "https://localhost:8080/"
        },
        "id": "htQe3tqIO_qY",
        "outputId": "83b8d064-5570-49ce-c069-66abdb957cba"
      },
      "execution_count": 25,
      "outputs": [
        {
          "output_type": "stream",
          "name": "stdout",
          "text": [
            "['the', 'quick', 'brown', 'fox', 'jumps', 'over', 'the', 'lazy', 'dog']\n"
          ]
        }
      ]
    },
    {
      "cell_type": "code",
      "source": [
        "words = ['The', 'quick', 'brown', 'fox', 'jumps', 'over','the', 'lazy', 'dog']\n",
        "a = [len(word) for word in words]\n",
        "print(a)"
      ],
      "metadata": {
        "colab": {
          "base_uri": "https://localhost:8080/"
        },
        "id": "1yAhZCLZPBZt",
        "outputId": "11626786-b615-43a2-ca70-ba47e310798d"
      },
      "execution_count": 26,
      "outputs": [
        {
          "output_type": "stream",
          "name": "stdout",
          "text": [
            "[3, 5, 5, 3, 5, 4, 3, 4, 3]\n"
          ]
        }
      ]
    },
    {
      "cell_type": "code",
      "source": [
        "words = ['The', 'quick', 'brown', 'fox', 'jumps', 'over','the', 'lazy', 'dog']\n",
        "a = [[word.upper(), word.lower(), len(word)] for word in words]\n",
        "print(a)"
      ],
      "metadata": {
        "colab": {
          "base_uri": "https://localhost:8080/"
        },
        "id": "H0Pz48D9PDUX",
        "outputId": "40aafaae-2b6c-4f16-bbda-9d799b00a376"
      },
      "execution_count": 27,
      "outputs": [
        {
          "output_type": "stream",
          "name": "stdout",
          "text": [
            "[['THE', 'the', 3], ['QUICK', 'quick', 5], ['BROWN', 'brown', 5], ['FOX', 'fox', 3], ['JUMPS', 'jumps', 5], ['OVER', 'over', 4], ['THE', 'the', 3], ['LAZY', 'lazy', 4], ['DOG', 'dog', 3]]\n"
          ]
        }
      ]
    },
    {
      "cell_type": "code",
      "source": [
        "words = ['The', 'quick', 'brown', 'fox', 'jumps', 'over','the', 'lazy', 'dog']\n",
        "a = [word for word in words if len(word) >= 4]\n",
        "print(a)"
      ],
      "metadata": {
        "colab": {
          "base_uri": "https://localhost:8080/"
        },
        "id": "cmRoHcaXPGwD",
        "outputId": "5d718ed9-76aa-436e-983d-869dda91c39f"
      },
      "execution_count": 28,
      "outputs": [
        {
          "output_type": "stream",
          "name": "stdout",
          "text": [
            "['quick', 'brown', 'jumps', 'over', 'lazy']\n"
          ]
        }
      ]
    }
  ]
}